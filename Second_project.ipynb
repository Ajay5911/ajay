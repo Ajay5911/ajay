{
 "cells": [
  {
   "cell_type": "code",
   "execution_count": 30,
   "id": "488345ce-2203-40a1-9375-44735b60f49d",
   "metadata": {},
   "outputs": [],
   "source": [
    "import tkinter as tk\n",
    "from tkinter import messagebox\n",
    "import random\n",
    "\n",
    "Number = random.randint(1, 5)\n",
    "attempts = 3\n",
    "\n",
    "def check_guess():\n",
    "    global attempts\n",
    "    \n",
    "    guess = int(entry.get())\n",
    "    if guess == Number:\n",
    "        messagebox.showinfo(\"Result\", \"Congrats, you won!\")\n",
    "        root.destroy() \n",
    "    else:\n",
    "        attempts -= 1\n",
    "        if attempts == 0:\n",
    "            messagebox.showinfo(\"Result\", f\"Game over! The number was {Number}.\")\n",
    "            root.destroy()\n",
    "        else:\n",
    "            messagebox.showwarning(\"Try Again\", \"Wrong guess. Try again!\")\n",
    "            entry.delete(0, tk.END)\n",
    "\n",
    "root = tk.Tk()\n",
    "root.title(\"Number Guessing Game\")\n",
    "root.geometry(\"300x150\")\n",
    "\n",
    "label = tk.Label(root, text=\"Guess a number between 1 and 5:\")\n",
    "label.pack(pady=10)\n",
    "\n",
    "entry = tk.Entry(root)\n",
    "entry.pack()\n",
    "\n",
    "submit_btn = tk.Button(root, text=\"Submit Guess\", command=check_guess)\n",
    "submit_btn.pack(pady=10)\n",
    "\n",
    "root.mainloop()"
   ]
  },
  {
   "cell_type": "code",
   "execution_count": null,
   "id": "fab644b7-8a45-4577-9a2c-d2fdaa1359dd",
   "metadata": {},
   "outputs": [],
   "source": []
  }
 ],
 "metadata": {
  "kernelspec": {
   "display_name": "Python 3 (ipykernel)",
   "language": "python",
   "name": "python3"
  },
  "language_info": {
   "codemirror_mode": {
    "name": "ipython",
    "version": 3
   },
   "file_extension": ".py",
   "mimetype": "text/x-python",
   "name": "python",
   "nbconvert_exporter": "python",
   "pygments_lexer": "ipython3",
   "version": "3.12.7"
  }
 },
 "nbformat": 4,
 "nbformat_minor": 5
}
