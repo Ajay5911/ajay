{
 "cells": [
  {
   "cell_type": "code",
   "execution_count": 2,
   "id": "92de9aab-16bf-45e1-8bfa-0cb65e8e4700",
   "metadata": {},
   "outputs": [
    {
     "name": "stdout",
     "output_type": "stream",
     "text": [
      "Requirement already satisfied: pymysql in c:\\users\\user\\anaconda3\\lib\\site-packages (1.1.1)\n",
      "Note: you may need to restart the kernel to use updated packages.\n"
     ]
    }
   ],
   "source": [
    "pip install pymysql"
   ]
  },
  {
   "cell_type": "code",
   "execution_count": 3,
   "id": "2446190e-9415-41c2-bdd2-6d9a254fcdcf",
   "metadata": {},
   "outputs": [],
   "source": [
    "import pymysql"
   ]
  },
  {
   "cell_type": "code",
   "execution_count": 6,
   "id": "09ecbbdd-876a-4a90-a5b6-6593617293d2",
   "metadata": {},
   "outputs": [
    {
     "name": "stdout",
     "output_type": "stream",
     "text": [
      "Connected\n"
     ]
    }
   ],
   "source": [
    "connection = pymysql.connect(\n",
    "    host=\"localhost\",\n",
    "    user=\"root\",\n",
    "    password=\"1234567\"\n",
    ")\n",
    "print(\"Connected\")"
   ]
  },
  {
   "cell_type": "code",
   "execution_count": 8,
   "id": "e7d9e337-bc13-40a3-8f0a-8be96d2ff715",
   "metadata": {},
   "outputs": [
    {
     "name": "stdout",
     "output_type": "stream",
     "text": [
      "Database Created\n"
     ]
    }
   ],
   "source": [
    "Query = \" create database Contact_Book\"\n",
    "cur = connection.cursor()\n",
    "cur.execute(Query)\n",
    "print(\"Database Created\")"
   ]
  },
  {
   "cell_type": "code",
   "execution_count": 9,
   "id": "2118a1c3-4513-4288-b600-377d6986370e",
   "metadata": {},
   "outputs": [
    {
     "name": "stdout",
     "output_type": "stream",
     "text": [
      "Connected\n"
     ]
    }
   ],
   "source": [
    "connection = pymysql.connect(\n",
    "    host=\"localhost\",\n",
    "    user=\"root\",\n",
    "    password=\"1234567\",\n",
    "    db = \"Contact_Book\"\n",
    ")\n",
    "print(\"Connected\")"
   ]
  },
  {
   "cell_type": "code",
   "execution_count": 10,
   "id": "973ea7d2-fbcc-42b7-86b7-c5fdd0c4e814",
   "metadata": {},
   "outputs": [
    {
     "name": "stdout",
     "output_type": "stream",
     "text": [
      "Table Created\n"
     ]
    }
   ],
   "source": [
    "Query = \" Create Table Contacts(id INT AUTO_INCREMENT PRIMARY KEY,name VARCHAR(100),phone VARCHAR(20),email VARCHAR(100))\"\n",
    "cur = connection.cursor()\n",
    "cur.execute(Query)\n",
    "print(\"Table Created\")"
   ]
  },
  {
   "cell_type": "code",
   "execution_count": 14,
   "id": "c9507681-f607-4962-a16e-83bb8f528b76",
   "metadata": {},
   "outputs": [
    {
     "name": "stdin",
     "output_type": "stream",
     "text": [
      "Enter the ID 103\n",
      "Enter the Name vijay\n",
      "Enter the Number 981334345\n",
      "Enter the Gmail vj123@gmail.com\n"
     ]
    },
    {
     "name": "stdout",
     "output_type": "stream",
     "text": [
      "Data Store\n"
     ]
    }
   ],
   "source": [
    "Id = input(\"Enter the ID\")\n",
    "Name = input(\"Enter the Name\")\n",
    "Phone = input(\"Enter the Number\")\n",
    "Gmail = input(\"Enter the Gmail\")\n",
    "Query = \"Insert into Contacts values('\"+Id+\"','\"+Name+\"','\"+Phone+\"','\"+Gmail+\"')\"\n",
    "cur = connection.cursor()\n",
    "cur.execute(Query)\n",
    "connection.commit()\n",
    "print(\"Data Store\")"
   ]
  },
  {
   "cell_type": "code",
   "execution_count": null,
   "id": "8b8bcaab-b663-4b9d-9a59-de9ea453e07a",
   "metadata": {},
   "outputs": [],
   "source": []
  }
 ],
 "metadata": {
  "kernelspec": {
   "display_name": "Python 3 (ipykernel)",
   "language": "python",
   "name": "python3"
  },
  "language_info": {
   "codemirror_mode": {
    "name": "ipython",
    "version": 3
   },
   "file_extension": ".py",
   "mimetype": "text/x-python",
   "name": "python",
   "nbconvert_exporter": "python",
   "pygments_lexer": "ipython3",
   "version": "3.12.7"
  }
 },
 "nbformat": 4,
 "nbformat_minor": 5
}
